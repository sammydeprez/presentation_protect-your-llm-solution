{
 "cells": [
  {
   "cell_type": "code",
   "execution_count": null,
   "metadata": {},
   "outputs": [],
   "source": [
    "import nest_asyncio\n",
    "nest_asyncio.apply()"
   ]
  },
  {
   "cell_type": "markdown",
   "metadata": {},
   "source": [
    "## Load Guardrails Config"
   ]
  },
  {
   "cell_type": "code",
   "execution_count": null,
   "metadata": {},
   "outputs": [],
   "source": [
    "from nemoguardrails import RailsConfig\n",
    "config = RailsConfig.from_path(\"./config\")\n",
    "\n",
    "from nemoguardrails import LLMRails\n",
    "rails = LLMRails(config)"
   ]
  },
  {
   "cell_type": "markdown",
   "metadata": {},
   "source": [
    "## RAG"
   ]
  },
  {
   "cell_type": "code",
   "execution_count": null,
   "metadata": {},
   "outputs": [],
   "source": [
    "response = rails.generate(messages=[{\n",
    "    \"role\": \"context\",\n",
    "    \"content\": {\n",
    "        \"relevant_chunks\": \"\"\"\n",
    "            Employees are eligible for the following time off:\n",
    "              * Vacation: 20 days per year, accrued monthly.\n",
    "              * Sick leave: 15 days per year, accrued monthly.\n",
    "              * Personal days: 5 days per year, accrued monthly.\n",
    "              * Paid holidays: New Year's Day, Memorial Day, Independence Day, Thanksgiving Day, Christmas Day.\n",
    "              * Bereavement leave: 3 days paid leave for immediate family members, 1 day for non-immediate family members. \"\"\"\n",
    "    }\n",
    "},{\n",
    "    \"role\": \"user\",\n",
    "    \"content\": \"How many vacation days do I have per year?\"\n",
    "}])\n",
    "print(response[\"content\"])"
   ]
  }
 ],
 "metadata": {
  "kernelspec": {
   "display_name": ".venv",
   "language": "python",
   "name": "python3"
  },
  "language_info": {
   "codemirror_mode": {
    "name": "ipython",
    "version": 3
   },
   "file_extension": ".py",
   "mimetype": "text/x-python",
   "name": "python",
   "nbconvert_exporter": "python",
   "pygments_lexer": "ipython3",
   "version": "3.11.8"
  }
 },
 "nbformat": 4,
 "nbformat_minor": 2
}
