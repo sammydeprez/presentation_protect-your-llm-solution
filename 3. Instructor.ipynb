{
 "cells": [
  {
   "cell_type": "code",
   "execution_count": 4,
   "metadata": {},
   "outputs": [],
   "source": [
    "import os\n",
    "from openai import AzureOpenAI\n",
    "from IPython.display import display, Markdown\n",
    "import json\n",
    "\n",
    "openai_endpoint = os.getenv(\"OPENAI_ENDPOINT\")\n",
    "openai_api_key = os.getenv(\"OPENAI_API_KEY\")\n",
    "openai_version = \"2024-06-01\"\n",
    "openai_completion_model = \"gpt-4o\"\n",
    "\n",
    "client = AzureOpenAI(\n",
    "    azure_endpoint = openai_endpoint, \n",
    "    api_key = openai_api_key, \n",
    "    api_version = openai_version)"
   ]
  },
  {
   "cell_type": "code",
   "execution_count": 22,
   "metadata": {},
   "outputs": [
    {
     "data": {
      "text/markdown": [
       "{\n",
       "  \"sentiment\": \"NEGATIVE\",\n",
       "  \"keywords\": [\"dislike\", \"organization\", \"things are done\"]\n",
       "}"
      ],
      "text/plain": [
       "<IPython.core.display.Markdown object>"
      ]
     },
     "metadata": {},
     "output_type": "display_data"
    },
    {
     "data": {
      "text/plain": [
       "{'sentiment': 'NEGATIVE',\n",
       " 'keywords': ['dislike', 'organization', 'things are done']}"
      ]
     },
     "execution_count": 22,
     "metadata": {},
     "output_type": "execute_result"
    }
   ],
   "source": [
    "persona = \"\"\"Based on the input of the user you categorize the message as NEGATIVE OR POSITIVE and also return a list of keywords, respond in the following JSON format: { \"sentiment\": \"\", \"keywords\": \"\" }\"\"\"\n",
    "\n",
    "completion = client.chat.completions.create(\n",
    "    model = openai_completion_model,\n",
    "    messages = [\n",
    "        {\"role\": \"system\", \"content\": persona},\n",
    "        {\"role\": \"user\", \"content\": \"I really dislike the way things are done in this organization?\"},\n",
    "    ]\n",
    ")\n",
    "\n",
    "display(Markdown(completion.choices[0].message.content))\n",
    "_dict = json.loads(completion.choices[0].message.content)\n",
    "_dict"
   ]
  },
  {
   "cell_type": "code",
   "execution_count": 15,
   "metadata": {},
   "outputs": [
    {
     "data": {
      "text/markdown": [
       "```json\n",
       "{\n",
       "  \"sentiment\": \"NEGATIVE\",\n",
       "  \"keywords\": [\"dislike\", \"organization\"]\n",
       "}\n",
       "```"
      ],
      "text/plain": [
       "<IPython.core.display.Markdown object>"
      ]
     },
     "metadata": {},
     "output_type": "display_data"
    }
   ],
   "source": [
    "persona = \"\"\"Based on the input of the user you categorize the message as NEGATIVE OR POSITIVE and also return a list of keywords, respond in the following JSON format: { \"sentiment\": \"\", \"keywords\": \"\" }\"\"\"\n",
    "\n",
    "completion = client.chat.completions.create(\n",
    "    model = openai_completion_model,\n",
    "    messages = [\n",
    "        {\"role\": \"system\", \"content\": persona},\n",
    "        {\"role\": \"user\", \"content\": \"I really dislike the way things are done in this organization?\"},\n",
    "    ]\n",
    ")\n",
    "\n",
    "display(Markdown(completion.choices[0].message.content))\n",
    "#_dict = json.loads(completion.choices[0].message.content)\n",
    "#_dict\n"
   ]
  },
  {
   "cell_type": "code",
   "execution_count": null,
   "metadata": {},
   "outputs": [],
   "source": []
  }
 ],
 "metadata": {
  "kernelspec": {
   "display_name": ".venv",
   "language": "python",
   "name": "python3"
  },
  "language_info": {
   "codemirror_mode": {
    "name": "ipython",
    "version": 3
   },
   "file_extension": ".py",
   "mimetype": "text/x-python",
   "name": "python",
   "nbconvert_exporter": "python",
   "pygments_lexer": "ipython3",
   "version": "3.11.6"
  }
 },
 "nbformat": 4,
 "nbformat_minor": 2
}
