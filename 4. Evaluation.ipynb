{
 "cells": [
  {
   "cell_type": "code",
   "execution_count": 1,
   "metadata": {},
   "outputs": [],
   "source": [
    "import os\n",
    "import json\n",
    "import requests\n",
    "import uuid\n",
    "from datetime import datetime\n",
    "chat_api_endpoint = os.environ.get(\"CHAT_API_ENDPOINT\")\n",
    "chat_api_key = os.environ.get(\"CHAT_API_KEY\")"
   ]
  },
  {
   "cell_type": "markdown",
   "metadata": {},
   "source": [
    "## Get an answer"
   ]
  },
  {
   "cell_type": "code",
   "execution_count": 2,
   "metadata": {},
   "outputs": [],
   "source": [
    "def get_answer_api(question:str, conversationId: str = None)->dict:\n",
    "    endpoint = f\"{chat_api_endpoint}/chat?code={chat_api_key}\"\n",
    "\n",
    "    #generate guid\n",
    "    guid = str(uuid.uuid4())\n",
    "    if(conversationId == None):\n",
    "        conversationId = f\"ragas-{datetime.today().strftime('%Y%m%d')}-{guid}\"\n",
    "\n",
    "    data = {\n",
    "        \"ConversationId\" : conversationId,\n",
    "        \"Message\" : question,\n",
    "        \"UserId\" : \"RAGAS\"\n",
    "    }\n",
    "    response = requests.post(endpoint, json=data)\n",
    "    answer = response.json()[\"Message\"]\n",
    "    intent = response.json()[\"Question\"]\n",
    "    context = json.loads(response.json()[\"Context\"])\n",
    "\n",
    "    context_combined = []\n",
    "    for c in context:\n",
    "        context_combined.append(str(c[\"id\"]) + \": \" + c[\"content\"])\n",
    "\n",
    "    context = context_combined\n",
    "    return answer, context, intent, conversationId"
   ]
  },
  {
   "cell_type": "code",
   "execution_count": 3,
   "metadata": {},
   "outputs": [
    {
     "name": "stdout",
     "output_type": "stream",
     "text": [
      "ragas-20240725-eab5adad-a3b5-44ba-88da-be3002c0a9f5\n",
      "De burgemeester van Kortrijk is Vincent Van Quickenborne.\n",
      "['1381: Burgemeester Vincent Van Quickenborne Grote Markt 54 8500 Kortrijk België Burgemeester Vincent Van Quickenborne Veiligheid Brandweer Politie Preventie Samenleven, diversiteit en inburgering GAS Strategische planning Coördinatie stedenbeleid Externe relaties en samenwerking Eurometropool Intercommunales en samenwerking met derden Bestuurszaken Recht Communicatie', '2175: Objectieve aansprakelijkheid in geval van brand en ontploffing Objectieve aansprakelijkheid Omschrijving Dit is een verplichte verzekering voor objectieve aansprakelijkheid in geval van brand en ontploffing voor inrichtingen die gewoonlijk voor het publiek toegankelijk zijn. ( wet van 30 juli 1979 ) Het behoort de burgemeester toe te controleren of de door de wet bedoelde inrichtingen de vereiste verzekeringspolis hebben afgesloten. De burgemeester heeft de bevoegdheid om de tijdelijke sluiting op te leggen van de inrichting die niet voldoet aan de door de wet voorgeschreven veiligheidsmaatregelen. Aanvragen Wie? Deze verplichte verzekering geldt ten aanzien van de uitbater van de inrichting, ongeacht wie de eigenaar ervan is. (Lijst met categorieën van inrichtingen - ministeriële omzendbrief van 03 maart 1992) Overmaken attest aan de stad Kortrijk Hoe? Bij het afsluiten van een verzekering objectieve aansprakelijkheid voor brand en ontploffing levert de verzekeringsmaatschappij een attest af. Een duplicaat van dit attest word, conform het K.B. van 5 augustus 1991, overgemaakt aan de burgemeester. De verzekeringsattesten moeten opgestuurd worden naar het stadsbestuur van Kortrijk . ( K.B. van 05 augustus 1991 ) \\xa0', '949586: Werken als vrijwilliger belast met bewakingsactiviteiten Omschrijving De meeste evenementen of occasionele dansgelegenheden (vb. fuiven) in de stad worden georganiseerd door verenigingen. In dat kader rekenen ze op vaak tientallen vrijwilligers. Voor sommige van die activiteiten is echter private bewaking nodig (vb. security op fuiven). De private bewaking is aan een strenge wetgeving onderworpen en ook instaan als vrijwilliger voor de private bewaking is duidelijk in de wetgeving omschreven. De wetgever voorzag immers het ‘verenigingsregime’, ook ‘uitzonderingsregime’ genoemd, waardoor leden van een organiserende vereniging (of personen die een effectieve en aanwijsbare band hebben met die vereniging; vb. ex-leden) kunnen instaan voor persoonscontrole. Wil de organisatie hiervoor samenwerken met derden, dan moet dit met een private bewakingsfirma met een vergunning. Voorwaarden Bewakingsactiviteiten kunnen slechts onder het verenigingsregime worden uitgeoefend indien\\xa0voldaan is aan volgende voorwaarden: Hoofdvoorwaarde De organiserende vereniging mag geen winstoogmerk beogen en streeft een ander doel na dan de organisatie of het faciliteren van evenementen. Algemene voorwaarden enkel statische bewaking van roerende of onroerende goederen en toezicht op en controle van het publiek;\\xa0 de personen die bewakingsactiviteiten uitoefenen mogen dit slechts sporadisch (max. 4X/jaar) doen, daarom kunnen professionele bewakingsagenten nooit optreden als \"vrijwilliger\";\\xa0 ze mogen dit enkel gratis doen, ze kunnen ook geen vergoeding in natura of fooien ontvangen; ze moeten een toestemming van de burgemeester hebben. Persoonsvoorwaarden De vrijwilligers die worden ingezet moeten aan volgende voorwaarden voldoen:\\xa0 bepaalde veroordelingen niet hebben opgelopen en voldoen aan de veiligheidsvoorwaarden, nodig voor het uitoefenen van deze functie;\\xa0 lid zijn van een lidstaat van de EEG, of gedurende tenminste drie jaar hun wettige hoofdverblijfplaats hebben in België;\\xa0 bepaalde beroepen niet uitoefenen (politie, privé-detective, wapenhandelaar) of activiteiten die doordat ze door een dergelijke vrijwilliger worden uitgeoefend een gevaar kunnen uitmaken voor de openbare orde;\\xa0 sinds drie jaar geen lid geweest zijn van een politiedienst;\\xa0 de leeftijd van 18 jaar bereikt hebben; niet geschrapt zijn uit de Rijksregister zonder een nieuw adres achter te laten. Aanvragen Hoe? De aanvraag gebeurt via de evenementenfiche ( https://evenementen.kortrijk.be/ ). De namen van de vrijwilligers, hun adres en rijksregisternummer moeten ingevuld worden in Bijlage 1 van het Ministerieel besluit van 25 juli 2018. Daarnaast verstuur je ook een kopie van de ingevulde bijlage naar het e-mailadres spvcontrole@ibz.fgov.be . Wie? De aanvraag gebeurt best door de hoofdorganisator van het evenement in kwestie. Wanneer? De aanvraag wordt het best anderhalve maand voor de activiteit, ten laatste 14 dagen voor de start van het evenement ingediend. Er moet immers heel wat heen en weer worden gecommuniceerd om de betrokken personen te screenen op onverenigbaarheden met de voorwaarden. Verder verloop Eens de burgemeester over de identiteiten van de betrokken personen beschikt zullen deze gescreend worden op onverenigbaarheden met de hoofdvoorwaarden, algemene voorwaarden en de persoonsvoorwaarden.\\xa0 Na de screening stuurt de burgemeester al of niet de toelating om met vrijwilligers te werken in het kader van persoonscontrole. Het is belangrijk deze toelating samen met de lijst met de persoonsgegevens van de betrokken vrijwilligers bij te houden op het evenement of occasionele dansgelegenheid. Kosten €0 Openingsuren JC Tranzit', '2066120: Meer politiecontroles in de winkelstraten, de stationsomgeving en op het Nelson Mandelaplein Meer politiecontroles in de winkelstraten, de stationsomgeving en op het Nelson Mandelaplein De voorbije weken vonden enkele incidenten plaats in de stationsomgeving die ook de media haalden. Om het onveiligheidsgevoel tegen te gaan en verdere incidenten te voorkomen werd een nieuw burgemeestersbesluit uitgevaardigd. De voorbije weken vonden enkele incidenten plaats in de stationsomgeving die ook de media haalden. Om het onveiligheidsgevoel tegen te gaan en verdere incidenten te voorkomen, heeft burgemeester Ruth Vandenberghe in overleg met de politiezone VLAS een burgemeestersbesluit uitgevaardigd dat systematische identiteitscontroles toelaat in de winkelstraten, de stationsbuurt en rond het Nelson Mandelaplein. Het besluit gaat in op 17 mei en loopt minstens tot en met 3 juli. Het besluit komt er na een aantal incidenten in de stationsbuurt en de Burgemeester Reynaertstraat. De politie verhoogde het toezicht al, maar dat bleek niet voldoende. Met het besluit kunnen de patrouilles van de politiezone Vlas nu systematisch identiteitscontroles en fouilleringen uitvoeren in op deze assen. Ook de spoorwegpolitie houdt een oogje in het zeil en er werden ook reeds overlastcontroles met een drugshond uitgevoerd in samenwerking met Securail en de federale politie. Wie problemen heeft of ziet, kan dit steeds melden. Voor dringende politiehulp blijft het aangewezen om rechtstreeks 101 te bellen. Voor niet-dringende vragen of meldingen kan men terecht op het gratis nummer 1701 van de lokale politiezone Vlas. Beide zijn 24 uur op 24 en 7 dagen op 7 bereikbaar. Er werd al eerder een burgemeestersbesluit uitgevaardigd in de omgeving van de skatebowl, Buda Beach, parking Dam en parking Broel. Ook Kortrijk Weide krijgt de nodige aandacht.', '2259: Uitbatingsvergunning kamerwoning Deze vergunning is vereist voor het uitbaten van een kamerwoning. Omschrijving Wie in Kortrijk een kamerwoning wil uitbaten (zowel studentenhuis als logementshuis) is verplicht om hiervoor een uitbatingsvergunning te hebben. De stad wil op die manier extra inzetten op de controle van de veiligheid en kwaliteit in deze gebouwen. Vergeet jezelf ook niet te informeren of hier een omgevingsvergunning voor vereist is. Aanvragen Wie? De uitbatingsvergunning is persoonsgebonden, maar is alleen geldig voor de kamerwoning waarvoor ze werd afgeleverd. Elke nieuwe eigenaar moet dus een nieuwe uitbatingsvergunning aanvragen. \\xa0De uitbatingsvergunning vermeldt het type kamerwoning (logementshuis of studentenhuis) en het aantal personen dat er mag wonen. Ze is 10 jaar geldig. Hoe? De aanvraag tot uitbatingsvergunning bezorg je via aangetekende brief aan de burgemeester of je geeft ze, tegen ontvangstbewijs, af bij de balie Bouwen, Milieu en Wonen in het stadhuis. Een afspraak kan telefonisch vastgelegd worden. Je kan ook steeds per mail contact opnemen met de dienst wonen. Wat meebrengen? plan van de woning met vermelding van de functie van de verschillende ruimtes en de afmetingen. uittreksel van het strafregister dat niet ouder is dan 1 maand. ondertekende verklaring van de aanvrager, waaruit blijkt dat de stadsdiensten de kamerwoning steeds mogen controleren om na te gaan of deze in overeenstemming blijft met de normen aangaande woonkwaliteit en brandveiligheid geldig conformiteitattest brandattest van maximaal 1 jaar oud, aan te vragen via het E-loket van de brandweer Wetgeving Het volledige reglement rond de uitbatingsvergunning kan je terugvinden in de algemene politieverordening van de stad . Kosten Voor een uitbatingsvergunning betaal je een retributie . Bouwen Milieu Wonen']\n",
      "Wie is de burgemeester\n"
     ]
    }
   ],
   "source": [
    "question = \"Wie is de burgemeester\"\n",
    "answer, context, intent, conversationId = get_answer_api(question)\n",
    "print(conversationId)\n",
    "print(answer)\n",
    "print(context)\n",
    "print(intent)"
   ]
  },
  {
   "cell_type": "markdown",
   "metadata": {},
   "source": [
    "## Get my dataset"
   ]
  },
  {
   "cell_type": "code",
   "execution_count": 6,
   "metadata": {},
   "outputs": [
    {
     "name": "stdout",
     "output_type": "stream",
     "text": [
      "Questions to be evaluated:  5\n"
     ]
    }
   ],
   "source": [
    "import pandas as pd\n",
    "import datasets\n",
    "data = pd.read_csv(\"ragas-data.csv\")\n",
    "print(\"Questions to be evaluated: \", len(data))"
   ]
  },
  {
   "cell_type": "code",
   "execution_count": 7,
   "metadata": {},
   "outputs": [
    {
     "data": {
      "text/html": [
       "<div>\n",
       "<style scoped>\n",
       "    .dataframe tbody tr th:only-of-type {\n",
       "        vertical-align: middle;\n",
       "    }\n",
       "\n",
       "    .dataframe tbody tr th {\n",
       "        vertical-align: top;\n",
       "    }\n",
       "\n",
       "    .dataframe thead th {\n",
       "        text-align: right;\n",
       "    }\n",
       "</style>\n",
       "<table border=\"1\" class=\"dataframe\">\n",
       "  <thead>\n",
       "    <tr style=\"text-align: right;\">\n",
       "      <th></th>\n",
       "      <th>question</th>\n",
       "      <th>ground_truth</th>\n",
       "    </tr>\n",
       "  </thead>\n",
       "  <tbody>\n",
       "    <tr>\n",
       "      <th>0</th>\n",
       "      <td>Wat is het adres containerpark Heule?</td>\n",
       "      <td>Het adres van het containerpark in Heule is La...</td>\n",
       "    </tr>\n",
       "    <tr>\n",
       "      <th>1</th>\n",
       "      <td>Wat zijn de openingsuren containerpark Rollegem?</td>\n",
       "      <td>Het containerpark in Rollegem is geopend zonde...</td>\n",
       "    </tr>\n",
       "    <tr>\n",
       "      <th>2</th>\n",
       "      <td>Moet ik een afspraak maken voor het containerp...</td>\n",
       "      <td>Nee, je moet voor geen enkel containerpark een...</td>\n",
       "    </tr>\n",
       "    <tr>\n",
       "      <th>3</th>\n",
       "      <td>Wat zijn de openingsuren bibliotheek kortrijk?</td>\n",
       "      <td>De bibliotheek in Kortrijk is open op weekdage...</td>\n",
       "    </tr>\n",
       "    <tr>\n",
       "      <th>4</th>\n",
       "      <td>wat is het adres van de bibliotheek?</td>\n",
       "      <td>Het adres van de bibliotheek is Leiestraat 30 ...</td>\n",
       "    </tr>\n",
       "  </tbody>\n",
       "</table>\n",
       "</div>"
      ],
      "text/plain": [
       "                                            question  \\\n",
       "0              Wat is het adres containerpark Heule?   \n",
       "1   Wat zijn de openingsuren containerpark Rollegem?   \n",
       "2  Moet ik een afspraak maken voor het containerp...   \n",
       "3     Wat zijn de openingsuren bibliotheek kortrijk?   \n",
       "4               wat is het adres van de bibliotheek?   \n",
       "\n",
       "                                        ground_truth  \n",
       "0  Het adres van het containerpark in Heule is La...  \n",
       "1  Het containerpark in Rollegem is geopend zonde...  \n",
       "2  Nee, je moet voor geen enkel containerpark een...  \n",
       "3  De bibliotheek in Kortrijk is open op weekdage...  \n",
       "4  Het adres van de bibliotheek is Leiestraat 30 ...  "
      ]
     },
     "execution_count": 7,
     "metadata": {},
     "output_type": "execute_result"
    }
   ],
   "source": [
    "data"
   ]
  },
  {
   "cell_type": "markdown",
   "metadata": {},
   "source": [
    "## Generate answers"
   ]
  },
  {
   "cell_type": "code",
   "execution_count": 8,
   "metadata": {},
   "outputs": [
    {
     "name": "stdout",
     "output_type": "stream",
     "text": [
      "1/5 - Wat is het adres containerpark Heule?\n",
      "2/5 - Wat zijn de openingsuren containerpark Rollegem?\n",
      "3/5 - Moet ik een afspraak maken voor het containerpark?\n",
      "4/5 - Wat zijn de openingsuren bibliotheek kortrijk?\n",
      "5/5 - wat is het adres van de bibliotheek?\n"
     ]
    }
   ],
   "source": [
    "ragas_data = list()\n",
    "\n",
    "for i in range(len(data)):\n",
    "    try:\n",
    "        question = data.loc[i, \"question\"]\n",
    "        ground_truth = data.loc[i, \"ground_truth\"]\n",
    "        answer, context, intent, conversationId = get_answer_api(question)\n",
    "        ragas_data.append({\n",
    "            \"question\" :question,\n",
    "            \"ground_truth\" : ground_truth,\n",
    "            \"answer\" : answer,\n",
    "            \"contexts\" : context,\n",
    "            \"intent\" : intent\n",
    "        })\n",
    "        print(f\"{i+1}/{len(data)} - {question}\")\n",
    "    except Exception as e:\n",
    "        print(f\"Error at index {i} - {e}\")\n",
    "\n",
    "ragas_data_df = pd.DataFrame(ragas_data)"
   ]
  },
  {
   "cell_type": "markdown",
   "metadata": {},
   "source": [
    "## Evaluation"
   ]
  },
  {
   "cell_type": "code",
   "execution_count": 9,
   "metadata": {},
   "outputs": [],
   "source": [
    "import ragas\n",
    "import ragas.metrics as metrics\n",
    "from langchain_openai.chat_models import AzureChatOpenAI\n",
    "from langchain_openai.embeddings import AzureOpenAIEmbeddings\n",
    "\n",
    "azure_model = AzureChatOpenAI(\n",
    "    openai_api_version=\"2024-06-01\",\n",
    "    azure_endpoint=os.environ.get(\"AZURE_OPENAI_ENDPOINT\"),\n",
    "    azure_deployment=\"gpt-4o\",\n",
    "    model=\"gpt-4o\",\n",
    "    validate_base_url=False,\n",
    "    api_key=os.environ.get(\"AZURE_OPENAI_KEY\")\n",
    ")\n",
    "\n",
    "# init the embeddings for answer_relevancy, answer_correctness and answer_similarity\n",
    "azure_embeddings = AzureOpenAIEmbeddings(\n",
    "    openai_api_version=\"2024-06-01\",\n",
    "    azure_endpoint=os.environ.get(\"AZURE_OPENAI_ENDPOINT\"),\n",
    "    azure_deployment=\"text-embedding-ada-002\",\n",
    "    model=\"text-embedding-ada-002\",\n",
    "    api_key=os.environ.get(\"AZURE_OPENAI_KEY\")\n",
    ")"
   ]
  },
  {
   "cell_type": "code",
   "execution_count": 10,
   "metadata": {},
   "outputs": [
    {
     "name": "stderr",
     "output_type": "stream",
     "text": [
      "Evaluating:  10%|█         | 2/20 [01:05<11:29, 38.32s/it]Runner in Executor raised an exception\n",
      "Runner in Executor raised an exception\n",
      "Runner in Executor raised an exception\n",
      "Runner in Executor raised an exception\n",
      "Runner in Executor raised an exception\n",
      "Runner in Executor raised an exception\n",
      "Runner in Executor raised an exception\n",
      "Runner in Executor raised an exception\n",
      "Runner in Executor raised an exception\n",
      "Runner in Executor raised an exception\n",
      "Runner in Executor raised an exception\n",
      "Runner in Executor raised an exception\n",
      "Runner in Executor raised an exception\n",
      "Runner in Executor raised an exception\n",
      "Evaluating:  15%|█▌        | 3/20 [01:20<07:42, 27.23s/it]Runner in Executor raised an exception\n",
      "Evaluating:  90%|█████████ | 18/20 [02:08<00:12,  6.47s/it]Runner in Executor raised an exception\n",
      "Runner in Executor raised an exception\n",
      "Evaluating: 100%|██████████| 20/20 [02:40<00:00,  8.00s/it]\n",
      "c:\\MyRepos\\LLMSafety\\.venv\\Lib\\site-packages\\ragas\\evaluation.py:296: RuntimeWarning: Mean of empty slice\n",
      "  value = np.nanmean(self.scores[cn])\n"
     ]
    }
   ],
   "source": [
    "ragas_dataset = {\n",
    "    \"question\" : ragas_data_df[\"question\"].to_list(),\n",
    "    \"ground_truth\" : ragas_data_df[\"ground_truth\"].to_list(),\n",
    "    \"answer\" : ragas_data_df[\"answer\"].to_list(),\n",
    "    \"contexts\" : ragas_data_df[\"contexts\"].to_list(),\n",
    "}\n",
    "ds = datasets.Dataset.from_dict(ragas_dataset)\n",
    "\n",
    "result = ragas.evaluate(\n",
    "    dataset= ds,\n",
    "    metrics=[metrics.faithfulness, \n",
    "             metrics.answer_correctness, \n",
    "             metrics.context_recall, \n",
    "             metrics.context_precision],\n",
    "    llm=azure_model,\n",
    "    embeddings=azure_embeddings,\n",
    "    raise_exceptions=False\n",
    ")\n",
    "merged_df = pd.merge(ragas_data_df, pd.DataFrame(result.scores), left_index=True, right_index=True)"
   ]
  }
 ],
 "metadata": {
  "kernelspec": {
   "display_name": ".venv",
   "language": "python",
   "name": "python3"
  },
  "language_info": {
   "codemirror_mode": {
    "name": "ipython",
    "version": 3
   },
   "file_extension": ".py",
   "mimetype": "text/x-python",
   "name": "python",
   "nbconvert_exporter": "python",
   "pygments_lexer": "ipython3",
   "version": "3.11.6"
  }
 },
 "nbformat": 4,
 "nbformat_minor": 2
}
