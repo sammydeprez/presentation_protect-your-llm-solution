{
 "cells": [
  {
   "cell_type": "code",
   "execution_count": null,
   "metadata": {},
   "outputs": [],
   "source": [
    "import os\n",
    "import json\n",
    "import requests\n",
    "import uuid\n",
    "from datetime import datetime\n",
    "chat_api_endpoint = os.environ.get(\"CHAT_API_ENDPOINT\")\n",
    "chat_api_key = os.environ.get(\"CHAT_API_KEY\")"
   ]
  },
  {
   "cell_type": "markdown",
   "metadata": {},
   "source": [
    "## Get an answer"
   ]
  },
  {
   "cell_type": "code",
   "execution_count": null,
   "metadata": {},
   "outputs": [],
   "source": [
    "def get_answer_api(question:str, conversationId: str = None)->dict:\n",
    "    endpoint = f\"{chat_api_endpoint}/chat?code={chat_api_key}\"\n",
    "\n",
    "    #generate guid\n",
    "    guid = str(uuid.uuid4())\n",
    "    if(conversationId == None):\n",
    "        conversationId = f\"ragas-{datetime.today().strftime('%Y%m%d')}-{guid}\"\n",
    "\n",
    "    data = {\n",
    "        \"ConversationId\" : conversationId,\n",
    "        \"Message\" : question,\n",
    "        \"UserId\" : \"RAGAS\"\n",
    "    }\n",
    "    response = requests.post(endpoint, json=data)\n",
    "    answer = response.json()[\"Message\"]\n",
    "    intent = response.json()[\"Question\"]\n",
    "    context = json.loads(response.json()[\"Context\"])\n",
    "\n",
    "    context_combined = []\n",
    "    for c in context:\n",
    "        context_combined.append(str(c[\"id\"]) + \": \" + c[\"content\"])\n",
    "\n",
    "    context = context_combined\n",
    "    return answer, context, intent, conversationId"
   ]
  },
  {
   "cell_type": "code",
   "execution_count": null,
   "metadata": {},
   "outputs": [],
   "source": [
    "question = \"Wie is de burgemeester\"\n",
    "answer, context, intent, conversationId = get_answer_api(question)\n",
    "print(conversationId)\n",
    "print(answer)\n",
    "print(context)\n",
    "print(intent)"
   ]
  },
  {
   "cell_type": "markdown",
   "metadata": {},
   "source": [
    "## Get my dataset"
   ]
  },
  {
   "cell_type": "code",
   "execution_count": null,
   "metadata": {},
   "outputs": [],
   "source": [
    "import pandas as pd\n",
    "import datasets\n",
    "data = pd.read_csv(\"ragas-data.csv\")\n",
    "print(\"Questions to be evaluated: \", len(data))"
   ]
  },
  {
   "cell_type": "code",
   "execution_count": null,
   "metadata": {},
   "outputs": [],
   "source": [
    "data"
   ]
  },
  {
   "cell_type": "markdown",
   "metadata": {},
   "source": [
    "## Generate answers"
   ]
  },
  {
   "cell_type": "code",
   "execution_count": null,
   "metadata": {},
   "outputs": [],
   "source": [
    "ragas_data = list()\n",
    "\n",
    "for i in range(len(data)):\n",
    "    try:\n",
    "        question = data.loc[i, \"question\"]\n",
    "        ground_truth = data.loc[i, \"ground_truth\"]\n",
    "        answer, context, intent, conversationId = get_answer_api(question)\n",
    "        ragas_data.append({\n",
    "            \"question\" :question,\n",
    "            \"ground_truth\" : ground_truth,\n",
    "            \"answer\" : answer,\n",
    "            \"contexts\" : context,\n",
    "            \"intent\" : intent\n",
    "        })\n",
    "        print(f\"{i+1}/{len(data)} - {question}\")\n",
    "    except Exception as e:\n",
    "        print(f\"Error at index {i} - {e}\")\n",
    "\n",
    "ragas_data_df = pd.DataFrame(ragas_data)"
   ]
  },
  {
   "cell_type": "markdown",
   "metadata": {},
   "source": [
    "## Evaluation"
   ]
  },
  {
   "cell_type": "code",
   "execution_count": null,
   "metadata": {},
   "outputs": [],
   "source": [
    "import ragas\n",
    "import ragas.metrics as metrics\n",
    "from langchain_openai.chat_models import AzureChatOpenAI\n",
    "from langchain_openai.embeddings import AzureOpenAIEmbeddings\n",
    "\n",
    "azure_model = AzureChatOpenAI(\n",
    "    openai_api_version=\"2024-06-01\",\n",
    "    azure_endpoint=os.environ.get(\"AZURE_OPENAI_ENDPOINT\"),\n",
    "    azure_deployment=\"gpt-4o\",\n",
    "    model=\"gpt-4o\",\n",
    "    validate_base_url=False,\n",
    "    api_key=os.environ.get(\"AZURE_OPENAI_KEY\")\n",
    ")\n",
    "\n",
    "# init the embeddings for answer_relevancy, answer_correctness and answer_similarity\n",
    "azure_embeddings = AzureOpenAIEmbeddings(\n",
    "    openai_api_version=\"2024-06-01\",\n",
    "    azure_endpoint=os.environ.get(\"AZURE_OPENAI_ENDPOINT\"),\n",
    "    azure_deployment=\"text-embedding-ada-002\",\n",
    "    model=\"text-embedding-ada-002\",\n",
    "    api_key=os.environ.get(\"AZURE_OPENAI_KEY\")\n",
    ")"
   ]
  },
  {
   "cell_type": "code",
   "execution_count": null,
   "metadata": {},
   "outputs": [],
   "source": [
    "ragas_dataset = {\n",
    "    \"question\" : ragas_data_df[\"question\"].to_list(),\n",
    "    \"ground_truth\" : ragas_data_df[\"ground_truth\"].to_list(),\n",
    "    \"answer\" : ragas_data_df[\"answer\"].to_list(),\n",
    "    \"contexts\" : ragas_data_df[\"contexts\"].to_list(),\n",
    "}\n",
    "ds = datasets.Dataset.from_dict(ragas_dataset)\n",
    "\n",
    "result = ragas.evaluate(\n",
    "    dataset= ds,\n",
    "    metrics=[metrics.faithfulness, \n",
    "             metrics.answer_correctness, \n",
    "             metrics.context_recall, \n",
    "             metrics.context_precision],\n",
    "    llm=azure_model,\n",
    "    embeddings=azure_embeddings,\n",
    "    raise_exceptions=False\n",
    ")\n",
    "merged_df = pd.merge(ragas_data_df, pd.DataFrame(result.scores), left_index=True, right_index=True)"
   ]
  },
  {
   "cell_type": "code",
   "execution_count": null,
   "metadata": {},
   "outputs": [],
   "source": [
    "result"
   ]
  },
  {
   "cell_type": "code",
   "execution_count": null,
   "metadata": {},
   "outputs": [],
   "source": [
    "pd.DataFrame(result.scores)"
   ]
  }
 ],
 "metadata": {
  "kernelspec": {
   "display_name": ".venv",
   "language": "python",
   "name": "python3"
  },
  "language_info": {
   "codemirror_mode": {
    "name": "ipython",
    "version": 3
   },
   "file_extension": ".py",
   "mimetype": "text/x-python",
   "name": "python",
   "nbconvert_exporter": "python",
   "pygments_lexer": "ipython3",
   "version": "3.11.8"
  }
 },
 "nbformat": 4,
 "nbformat_minor": 2
}
